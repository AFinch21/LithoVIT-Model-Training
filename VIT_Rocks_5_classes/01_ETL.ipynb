{
 "cells": [
  {
   "cell_type": "code",
   "execution_count": 103,
   "metadata": {},
   "outputs": [
    {
     "name": "stdout",
     "output_type": "stream",
     "text": [
      "Failed to convert Data_test/Rocks/Basalt/.DS_Store. Error: cannot identify image file 'Data_test/Rocks/Basalt/.DS_Store'\n",
      "Failed to convert Data_test/Rocks/Granite/.DS_Store. Error: cannot identify image file 'Data_test/Rocks/Granite/.DS_Store'\n",
      "Failed to convert Data_test/Rocks/Sandstone/.DS_Store. Error: cannot identify image file 'Data_test/Rocks/Sandstone/.DS_Store'\n",
      "Failed to convert Data_test/Rocks/Chalk/.DS_Store. Error: cannot identify image file 'Data_test/Rocks/Chalk/.DS_Store'\n",
      "Failed to convert Data_test/Rocks/Slate/.DS_Store. Error: cannot identify image file 'Data_test/Rocks/Slate/.DS_Store'\n",
      "Image conversion, splitting, and moving completed.\n"
     ]
    }
   ],
   "source": [
    "import os\n",
    "import shutil\n",
    "import random\n",
    "from PIL import Image\n",
    "\n",
    "# Define the root directory and the split percentages\n",
    "root_dir = 'Data_test/Rocks'\n",
    "train_percentage = 0.8\n",
    "validation_test_split = 0.5\n",
    "\n",
    "# Get a list of all rock types (subdirectories in the root directory)\n",
    "rock_types = [d for d in os.listdir(root_dir) if os.path.isdir(os.path.join(root_dir, d))]\n",
    "\n",
    "for rock_type in rock_types:\n",
    "    # Create train, validation, and test directories for each rock type\n",
    "    train_dir = os.path.join(root_dir, 'train', rock_type)\n",
    "    validation_dir = os.path.join(root_dir, 'validation', rock_type)\n",
    "    test_dir = os.path.join(root_dir, 'test', rock_type)\n",
    "\n",
    "    os.makedirs(train_dir, exist_ok=True)\n",
    "    os.makedirs(validation_dir, exist_ok=True)\n",
    "    os.makedirs(test_dir, exist_ok=True)\n",
    "\n",
    "    # Get a list of all image files in the current rock type directory\n",
    "    images = [f for f in os.listdir(os.path.join(root_dir, rock_type)) if os.path.isfile(os.path.join(root_dir, rock_type, f))]\n",
    "\n",
    "    # Shuffle the images to ensure randomness\n",
    "    random.shuffle(images)\n",
    "\n",
    "    # Calculate the split index\n",
    "    split_index = int(len(images) * train_percentage)\n",
    "\n",
    "    # Split the images into training and testing sets\n",
    "    train_images = images[:split_index]\n",
    "    validation_test_images = images[split_index:]\n",
    "\n",
    "    validation_test_index = int(len(validation_test_images) * validation_test_split)\n",
    "\n",
    "    # Split the images into validation and test sets\n",
    "    test_images = validation_test_images[:validation_test_index]\n",
    "    validation_images = validation_test_images[validation_test_index:]\n",
    "\n",
    "    # Function to convert an image to PNG\n",
    "    def convert_to_png(src_path, dst_dir, filename):\n",
    "        try:\n",
    "            with Image.open(src_path) as img:\n",
    "                # Convert to RGBA for proper PNG conversion\n",
    "                img = img.convert('RGB')\n",
    "                # Define path for PNG file\n",
    "                png_filename = os.path.splitext(filename)[0] + '.png'\n",
    "                dst_path = os.path.join(dst_dir, png_filename)\n",
    "                img.save(dst_path, 'PNG')\n",
    "        except Exception as e:\n",
    "            print(f\"Failed to convert {src_path}. Error: {e}\")\n",
    "\n",
    "    # Move the images to their respective directories\n",
    "    for image in train_images:\n",
    "        src_path = os.path.join(root_dir, rock_type, image)\n",
    "        convert_to_png(src_path, train_dir, image)\n",
    "\n",
    "    for image in test_images:\n",
    "        src_path = os.path.join(root_dir, rock_type, image)\n",
    "        convert_to_png(src_path, test_dir, image)\n",
    "\n",
    "    for image in validation_images:\n",
    "        src_path = os.path.join(root_dir, rock_type, image)\n",
    "        convert_to_png(src_path, validation_dir, image)\n",
    "\n",
    "print(\"Image conversion, splitting, and moving completed.\")"
   ]
  },
  {
   "cell_type": "code",
   "execution_count": 106,
   "metadata": {},
   "outputs": [
    {
     "data": {
      "application/vnd.jupyter.widget-view+json": {
       "model_id": "e30b4776b13e45d8a396932532764724",
       "version_major": 2,
       "version_minor": 0
      },
      "text/plain": [
       "Resolving data files:   0%|          | 0/249 [00:00<?, ?it/s]"
      ]
     },
     "metadata": {},
     "output_type": "display_data"
    },
    {
     "data": {
      "application/vnd.jupyter.widget-view+json": {
       "model_id": "6f5e21dc3f1f4862b1945bd82c31c672",
       "version_major": 2,
       "version_minor": 0
      },
      "text/plain": [
       "Resolving data files:   0%|          | 0/34 [00:00<?, ?it/s]"
      ]
     },
     "metadata": {},
     "output_type": "display_data"
    },
    {
     "data": {
      "application/vnd.jupyter.widget-view+json": {
       "model_id": "a48f59201c704dd18c15b0c2a1307e28",
       "version_major": 2,
       "version_minor": 0
      },
      "text/plain": [
       "Resolving data files:   0%|          | 0/32 [00:00<?, ?it/s]"
      ]
     },
     "metadata": {},
     "output_type": "display_data"
    },
    {
     "data": {
      "application/vnd.jupyter.widget-view+json": {
       "model_id": "270a49666d7042b78b1deff765e9dce5",
       "version_major": 2,
       "version_minor": 0
      },
      "text/plain": [
       "Downloading data:   0%|          | 0/249 [00:00<?, ?files/s]"
      ]
     },
     "metadata": {},
     "output_type": "display_data"
    },
    {
     "data": {
      "application/vnd.jupyter.widget-view+json": {
       "model_id": "45e748d62fce49c0870f8249a6463a55",
       "version_major": 2,
       "version_minor": 0
      },
      "text/plain": [
       "Downloading data:   0%|          | 0/34 [00:00<?, ?files/s]"
      ]
     },
     "metadata": {},
     "output_type": "display_data"
    },
    {
     "data": {
      "application/vnd.jupyter.widget-view+json": {
       "model_id": "d0e66f94c3b34f4f8baf163d9c202d96",
       "version_major": 2,
       "version_minor": 0
      },
      "text/plain": [
       "Downloading data:   0%|          | 0/32 [00:00<?, ?files/s]"
      ]
     },
     "metadata": {},
     "output_type": "display_data"
    },
    {
     "data": {
      "application/vnd.jupyter.widget-view+json": {
       "model_id": "4f9b183c21c2447fb7d5534db6a107e0",
       "version_major": 2,
       "version_minor": 0
      },
      "text/plain": [
       "Generating train split: 0 examples [00:00, ? examples/s]"
      ]
     },
     "metadata": {},
     "output_type": "display_data"
    },
    {
     "data": {
      "application/vnd.jupyter.widget-view+json": {
       "model_id": "e6465a5f88cc453da03251c840ced874",
       "version_major": 2,
       "version_minor": 0
      },
      "text/plain": [
       "Generating validation split: 0 examples [00:00, ? examples/s]"
      ]
     },
     "metadata": {},
     "output_type": "display_data"
    },
    {
     "data": {
      "application/vnd.jupyter.widget-view+json": {
       "model_id": "2087650479b24da0bab9d4f4295b4025",
       "version_major": 2,
       "version_minor": 0
      },
      "text/plain": [
       "Generating test split: 0 examples [00:00, ? examples/s]"
      ]
     },
     "metadata": {},
     "output_type": "display_data"
    }
   ],
   "source": [
    "from datasets import load_dataset\n",
    "\n",
    "dataset = load_dataset(\"imagefolder\", data_dir=\"Data_test/Rocks\")"
   ]
  },
  {
   "cell_type": "code",
   "execution_count": 107,
   "metadata": {},
   "outputs": [
    {
     "data": {
      "text/plain": [
       "DatasetDict({\n",
       "    train: Dataset({\n",
       "        features: ['image', 'label'],\n",
       "        num_rows: 249\n",
       "    })\n",
       "    validation: Dataset({\n",
       "        features: ['image', 'label'],\n",
       "        num_rows: 34\n",
       "    })\n",
       "    test: Dataset({\n",
       "        features: ['image', 'label'],\n",
       "        num_rows: 32\n",
       "    })\n",
       "})"
      ]
     },
     "execution_count": 107,
     "metadata": {},
     "output_type": "execute_result"
    }
   ],
   "source": [
    "dataset"
   ]
  }
 ],
 "metadata": {
  "kernelspec": {
   "display_name": ".venv",
   "language": "python",
   "name": "python3"
  },
  "language_info": {
   "codemirror_mode": {
    "name": "ipython",
    "version": 3
   },
   "file_extension": ".py",
   "mimetype": "text/x-python",
   "name": "python",
   "nbconvert_exporter": "python",
   "pygments_lexer": "ipython3",
   "version": "3.9.6"
  }
 },
 "nbformat": 4,
 "nbformat_minor": 2
}
